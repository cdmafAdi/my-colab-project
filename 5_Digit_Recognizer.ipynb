{
  "nbformat": 4,
  "nbformat_minor": 0,
  "metadata": {
    "colab": {
      "provenance": [],
      "toc_visible": true,
      "authorship_tag": "ABX9TyO5SzrHSaZ66QJrXItERTBy",
      "include_colab_link": true
    },
    "kernelspec": {
      "name": "python3",
      "display_name": "Python 3"
    },
    "language_info": {
      "name": "python"
    }
  },
  "cells": [
    {
      "cell_type": "markdown",
      "metadata": {
        "id": "view-in-github",
        "colab_type": "text"
      },
      "source": [
        "<a href=\"https://colab.research.google.com/github/cdmafAdi/my-colab-project/blob/2_digit_recognintion/5_Digit_Recognizer.ipynb\" target=\"_parent\"><img src=\"https://colab.research.google.com/assets/colab-badge.svg\" alt=\"Open In Colab\"/></a>"
      ]
    },
    {
      "cell_type": "code",
      "execution_count": null,
      "metadata": {
        "colab": {
          "base_uri": "https://localhost:8080/"
        },
        "id": "iV15l35VvwLP",
        "outputId": "f1ef83fb-c0f2-49e0-eaaa-66fc3362bb35"
      },
      "outputs": [
        {
          "output_type": "stream",
          "name": "stdout",
          "text": [
            "Downloading data from https://storage.googleapis.com/tensorflow/tf-keras-datasets/mnist.npz\n",
            "\u001b[1m11490434/11490434\u001b[0m \u001b[32m━━━━━━━━━━━━━━━━━━━━\u001b[0m\u001b[37m\u001b[0m \u001b[1m0s\u001b[0m 0us/step\n"
          ]
        }
      ],
      "source": [
        "from tensorflow.keras.datasets import mnist\n",
        "(X_train, y_train), (X_test, y_test) = mnist.load_data()\n",
        "\n",
        "# Normalize and reshape\n",
        "X_train = X_train.reshape(-1, 28, 28, 1) / 255.0\n",
        "X_test = X_test.reshape(-1, 28, 28, 1) / 255.0\n"
      ]
    },
    {
      "cell_type": "code",
      "source": [
        "from tensorflow.keras.models import Sequential\n",
        "from tensorflow.keras.layers import Conv2D, MaxPooling2D, Flatten, Dense, Dropout\n",
        "\n",
        "model = Sequential([\n",
        "    Conv2D(32, (3,3), activation='relu', input_shape=(28,28,1)),\n",
        "    MaxPooling2D((2,2)),\n",
        "    Conv2D(64, (3,3), activation='relu'),\n",
        "    MaxPooling2D((2,2)),\n",
        "    Flatten(),\n",
        "    Dense(128, activation='relu'),\n",
        "    Dropout(0.5),\n",
        "    Dense(10, activation='softmax')\n",
        "])\n",
        "\n",
        "model.compile(optimizer='adam',\n",
        "              loss='sparse_categorical_crossentropy',\n",
        "              metrics=['accuracy'])\n",
        "\n",
        "model.fit(X_train, y_train, epochs=5, validation_data=(X_test, y_test))\n"
      ],
      "metadata": {
        "colab": {
          "base_uri": "https://localhost:8080/"
        },
        "id": "nDUgH_ISv-Ey",
        "outputId": "5585d972-4b60-4370-fafe-c7cb8306d781"
      },
      "execution_count": null,
      "outputs": [
        {
          "output_type": "stream",
          "name": "stderr",
          "text": [
            "/usr/local/lib/python3.11/dist-packages/keras/src/layers/convolutional/base_conv.py:113: UserWarning: Do not pass an `input_shape`/`input_dim` argument to a layer. When using Sequential models, prefer using an `Input(shape)` object as the first layer in the model instead.\n",
            "  super().__init__(activity_regularizer=activity_regularizer, **kwargs)\n"
          ]
        },
        {
          "output_type": "stream",
          "name": "stdout",
          "text": [
            "Epoch 1/5\n",
            "\u001b[1m1875/1875\u001b[0m \u001b[32m━━━━━━━━━━━━━━━━━━━━\u001b[0m\u001b[37m\u001b[0m \u001b[1m78s\u001b[0m 41ms/step - accuracy: 0.8715 - loss: 0.4077 - val_accuracy: 0.9856 - val_loss: 0.0454\n",
            "Epoch 2/5\n",
            "\u001b[1m1875/1875\u001b[0m \u001b[32m━━━━━━━━━━━━━━━━━━━━\u001b[0m\u001b[37m\u001b[0m \u001b[1m74s\u001b[0m 39ms/step - accuracy: 0.9750 - loss: 0.0848 - val_accuracy: 0.9866 - val_loss: 0.0433\n",
            "Epoch 3/5\n",
            "\u001b[1m1875/1875\u001b[0m \u001b[32m━━━━━━━━━━━━━━━━━━━━\u001b[0m\u001b[37m\u001b[0m \u001b[1m78s\u001b[0m 41ms/step - accuracy: 0.9826 - loss: 0.0573 - val_accuracy: 0.9874 - val_loss: 0.0365\n",
            "Epoch 4/5\n",
            "\u001b[1m1875/1875\u001b[0m \u001b[32m━━━━━━━━━━━━━━━━━━━━\u001b[0m\u001b[37m\u001b[0m \u001b[1m77s\u001b[0m 39ms/step - accuracy: 0.9858 - loss: 0.0475 - val_accuracy: 0.9904 - val_loss: 0.0288\n",
            "Epoch 5/5\n",
            "\u001b[1m1875/1875\u001b[0m \u001b[32m━━━━━━━━━━━━━━━━━━━━\u001b[0m\u001b[37m\u001b[0m \u001b[1m86s\u001b[0m 41ms/step - accuracy: 0.9888 - loss: 0.0379 - val_accuracy: 0.9920 - val_loss: 0.0270\n"
          ]
        },
        {
          "output_type": "execute_result",
          "data": {
            "text/plain": [
              "<keras.src.callbacks.history.History at 0x7de7b516a890>"
            ]
          },
          "metadata": {},
          "execution_count": 2
        }
      ]
    },
    {
      "cell_type": "code",
      "source": [
        "loss, acc = model.evaluate(X_test, y_test)\n",
        "print(f\"Test Accuracy: {acc*100:.2f}%\")\n"
      ],
      "metadata": {
        "colab": {
          "base_uri": "https://localhost:8080/"
        },
        "id": "WdFwg94e5XJk",
        "outputId": "220e6626-d744-43e3-d87d-7dc09be72a3c"
      },
      "execution_count": null,
      "outputs": [
        {
          "output_type": "stream",
          "name": "stdout",
          "text": [
            "\u001b[1m313/313\u001b[0m \u001b[32m━━━━━━━━━━━━━━━━━━━━\u001b[0m\u001b[37m\u001b[0m \u001b[1m5s\u001b[0m 15ms/step - accuracy: 0.9894 - loss: 0.0361\n",
            "Test Accuracy: 99.20%\n"
          ]
        }
      ]
    },
    {
      "cell_type": "code",
      "source": [
        "from tensorflow.keras.preprocessing import image\n",
        "import numpy as np\n",
        "\n",
        "img = image.load_img('7_img.png', color_mode='grayscale', target_size=(28, 28))\n",
        "img_array = np.array(img).reshape(1, 28, 28, 1) / 255.0\n",
        "prediction = model.predict(img_array)\n",
        "print(\"Predicted digit:\", np.argmax(prediction))\n"
      ],
      "metadata": {
        "colab": {
          "base_uri": "https://localhost:8080/"
        },
        "id": "sP1qBtkKwFV4",
        "outputId": "ad1fc6c5-9561-4f87-f282-bb3142ae732d"
      },
      "execution_count": null,
      "outputs": [
        {
          "output_type": "stream",
          "name": "stdout",
          "text": [
            "\u001b[1m1/1\u001b[0m \u001b[32m━━━━━━━━━━━━━━━━━━━━\u001b[0m\u001b[37m\u001b[0m \u001b[1m0s\u001b[0m 90ms/step\n",
            "Predicted digit: 0\n"
          ]
        }
      ]
    },
    {
      "cell_type": "code",
      "source": [
        "from tensorflow.keras.utils import to_categorical\n",
        "from tensorflow.keras.preprocessing import image\n",
        "import cv2\n",
        "def preprocess_image(img_path):\n",
        "    img = cv2.imread(img_path, cv2.IMREAD_GRAYSCALE)  # Read in grayscale\n",
        "    img = cv2.resize(img, (28, 28))                   # Resize to 28x28\n",
        "    img = cv2.bitwise_not(img)                        # Invert (black digit on white bg)\n",
        "    img = img.astype('float32') / 255.0               # Normalize\n",
        "    img = img.reshape(1, 28, 28, 1)                    # Reshape for model\n",
        "    return img"
      ],
      "metadata": {
        "id": "J8BEnuAhxqrQ"
      },
      "execution_count": null,
      "outputs": []
    },
    {
      "cell_type": "code",
      "source": [
        "img_path = \"7_img.jpg\"  # Replace with your digit image path\n",
        "processed_img = preprocess_image(img_path)"
      ],
      "metadata": {
        "id": "-ELyhyH30Rb7"
      },
      "execution_count": null,
      "outputs": []
    },
    {
      "cell_type": "code",
      "source": [
        "# 5️⃣ Predict on a real image\n",
        "\n",
        "prediction = model.predict(processed_img)\n",
        "predicted_class = np.argmax(prediction)"
      ],
      "metadata": {
        "colab": {
          "base_uri": "https://localhost:8080/"
        },
        "id": "u7zftYLiyGGD",
        "outputId": "8a0190b7-878e-4ad7-c94d-b2d1cdd9e68a"
      },
      "execution_count": null,
      "outputs": [
        {
          "output_type": "stream",
          "name": "stdout",
          "text": [
            "\u001b[1m1/1\u001b[0m \u001b[32m━━━━━━━━━━━━━━━━━━━━\u001b[0m\u001b[37m\u001b[0m \u001b[1m0s\u001b[0m 83ms/step\n"
          ]
        }
      ]
    },
    {
      "cell_type": "code",
      "source": [
        "# import matplotlib.pyplot as plt\n",
        "\n",
        "# # Optional: Show the processed image\n",
        "# plt.imshow(processed_img.reshape(28,28), cmap='gray')\n",
        "# plt.title(f\"Predicted: {predicted_class}\")\n",
        "# plt.axis('off')\n",
        "# plt.show()\n"
      ],
      "metadata": {
        "id": "8f83ow4mzv_c"
      },
      "execution_count": null,
      "outputs": []
    },
    {
      "cell_type": "code",
      "source": [
        "def img_browse():\n",
        "  file_name = input('Enter file name to be browsed:')\n",
        "  img_path = file_name\n",
        "  processed_img = preprocess_image(img_path)\n",
        "  prediction = model.predict(processed_img)\n",
        "  redicted_class = np.argmax(prediction)\n",
        "  print(f\"The image preddicted is: \", redicted_class )\n"
      ],
      "metadata": {
        "id": "R6rPH1x6z_OI"
      },
      "execution_count": null,
      "outputs": []
    },
    {
      "cell_type": "code",
      "source": [
        "def img_record():\n",
        "  file_name = 'digit_img.jpg'\n",
        "  img_path = file_name\n",
        "  processed_img = preprocess_image(img_path)\n",
        "  prediction = model.predict(processed_img)\n",
        "  redicted_class = np.argmax(prediction)\n",
        "  print(f\"The image preddicted is: \", redicted_class )"
      ],
      "metadata": {
        "id": "BKHFbCOV_k0q"
      },
      "execution_count": null,
      "outputs": []
    },
    {
      "cell_type": "code",
      "source": [
        "print(\"Welcome to Handwritten Digit Classifier\")\n",
        "a = int(input(\"1.Upload image by scanning \\n2.Browse image\\nEnter Your choice:\"))\n",
        "\n",
        "if a==1:\n",
        "  img_record()\n",
        "\n",
        "elif a == 2:\n",
        "  img_browse()\n",
        "\n",
        "else:\n",
        "  print(\"Invalid Choice\")"
      ],
      "metadata": {
        "colab": {
          "base_uri": "https://localhost:8080/"
        },
        "id": "oT28bS2I2nAZ",
        "outputId": "d6e5a10e-c9ef-4201-f4bb-b3b32f9482a2"
      },
      "execution_count": null,
      "outputs": [
        {
          "output_type": "stream",
          "name": "stdout",
          "text": [
            "Welcome to Handwritten Digit Classifier\n",
            "1.Upload image by scanning \n",
            "2.Browse image\n",
            "Enter Your choice:1\n",
            "\u001b[1m1/1\u001b[0m \u001b[32m━━━━━━━━━━━━━━━━━━━━\u001b[0m\u001b[37m\u001b[0m \u001b[1m0s\u001b[0m 64ms/step\n",
            "The image preddicted is:  6\n"
          ]
        }
      ]
    }
  ]
}